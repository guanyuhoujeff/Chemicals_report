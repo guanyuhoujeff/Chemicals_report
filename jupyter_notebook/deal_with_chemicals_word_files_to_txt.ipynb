{
 "cells": [
  {
   "cell_type": "code",
   "execution_count": 1,
   "metadata": {},
   "outputs": [],
   "source": [
    "import docx\n",
    "import os\n",
    "# 前往父目錄\n",
    "os.chdir(os.path.abspath(os.path.join(os.path.dirname(\"__file__\"),\n",
    "                             os.path.pardir)))"
   ]
  },
  {
   "cell_type": "code",
   "execution_count": 2,
   "metadata": {},
   "outputs": [],
   "source": [
    "word_files_path = \"C:/Users/user/Desktop/毒災/word_files\"\n",
    "files = [f for f in os.listdir(word_files_path) if \".docx\" in f]"
   ]
  },
  {
   "cell_type": "code",
   "execution_count": 4,
   "metadata": {},
   "outputs": [],
   "source": [
    "content_list = []\n",
    "\n",
    "count = 0\n",
    "for f in files:\n",
    "    num = 0\n",
    "    doc = docx.Document(os.path.join(word_files_path, f))\n",
    "    one_content = \"\"\n",
    "    for para in doc.paragraphs :\n",
    "        if \"*\" in para.text:\n",
    "            if one_content != \"\":\n",
    "                num +=1\n",
    "                count+=1\n",
    "                with open(os.path.join(word_files_path, \"Chemicals_txt\", f.replace(\".docx\", \"\") + \"-%d.txt\"%num), \"w\", encoding=\"UTF8\") as writer:\n",
    "                    writer.write(one_content)\n",
    "            one_content = \"\"\n",
    "        else:\n",
    "            one_content = one_content +  para.text"
   ]
  },
  {
   "cell_type": "code",
   "execution_count": 5,
   "metadata": {},
   "outputs": [
    {
     "data": {
      "text/plain": [
       "203"
      ]
     },
     "execution_count": 5,
     "metadata": {},
     "output_type": "execute_result"
    }
   ],
   "source": [
    "count"
   ]
  },
  {
   "cell_type": "code",
   "execution_count": null,
   "metadata": {},
   "outputs": [],
   "source": []
  },
  {
   "cell_type": "code",
   "execution_count": null,
   "metadata": {},
   "outputs": [],
   "source": []
  },
  {
   "cell_type": "code",
   "execution_count": null,
   "metadata": {},
   "outputs": [],
   "source": []
  }
 ],
 "metadata": {
  "kernelspec": {
   "display_name": "Python 3",
   "language": "python",
   "name": "python3"
  },
  "language_info": {
   "codemirror_mode": {
    "name": "ipython",
    "version": 3
   },
   "file_extension": ".py",
   "mimetype": "text/x-python",
   "name": "python",
   "nbconvert_exporter": "python",
   "pygments_lexer": "ipython3",
   "version": "3.6.4"
  }
 },
 "nbformat": 4,
 "nbformat_minor": 2
}
