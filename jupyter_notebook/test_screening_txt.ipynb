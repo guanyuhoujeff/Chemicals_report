{
 "cells": [
  {
   "cell_type": "code",
   "execution_count": 12,
   "metadata": {},
   "outputs": [
    {
     "name": "stderr",
     "output_type": "stream",
     "text": [
      "Building prefix dict from the default dictionary ...\n",
      "Loading model from cache /tmp/jieba.cache\n",
      "Loading model cost 0.797 seconds.\n",
      "Prefix dict has been built succesfully.\n"
     ]
    },
    {
     "ename": "FileNotFoundError",
     "evalue": "[Errno 2] No such file or directory: '../chemicals_rawdata/chemicals_txt'",
     "output_type": "error",
     "traceback": [
      "\u001b[0;31m---------------------------------------------------------------------------\u001b[0m",
      "\u001b[0;31mFileNotFoundError\u001b[0m                         Traceback (most recent call last)",
      "\u001b[0;32m<ipython-input-12-8867ec8f527a>\u001b[0m in \u001b[0;36m<module>\u001b[0;34m()\u001b[0m\n\u001b[1;32m     11\u001b[0m \u001b[0;34m\u001b[0m\u001b[0m\n\u001b[1;32m     12\u001b[0m \u001b[0mchemicals_txt_path\u001b[0m \u001b[0;34m=\u001b[0m \u001b[0;34m\"../chemicals_rawdata/chemicals_txt\"\u001b[0m\u001b[0;34m\u001b[0m\u001b[0m\n\u001b[0;32m---> 13\u001b[0;31m \u001b[0mchemicals_txts\u001b[0m \u001b[0;34m=\u001b[0m \u001b[0mos\u001b[0m\u001b[0;34m.\u001b[0m\u001b[0mlistdir\u001b[0m\u001b[0;34m(\u001b[0m\u001b[0mchemicals_txt_path\u001b[0m\u001b[0;34m)\u001b[0m\u001b[0;34m\u001b[0m\u001b[0m\n\u001b[0m\u001b[1;32m     14\u001b[0m \u001b[0;34m\u001b[0m\u001b[0m\n\u001b[1;32m     15\u001b[0m \u001b[0mall_txt_files\u001b[0m \u001b[0;34m=\u001b[0m \u001b[0;34m[\u001b[0m\u001b[0;34m]\u001b[0m\u001b[0;34m\u001b[0m\u001b[0m\n",
      "\u001b[0;31mFileNotFoundError\u001b[0m: [Errno 2] No such file or directory: '../chemicals_rawdata/chemicals_txt'"
     ]
    }
   ],
   "source": [
    "import os\n",
    "# 前往父目錄\n",
    "os.chdir(os.path.abspath(os.path.join(os.path.dirname(\"__file__\"),\n",
    "                             os.path.pardir)))\n",
    "import KeyWordsComparison\n",
    "import pandas as pd\n",
    "\n",
    "# =============================================================================\n",
    "#  load txt chemicals_txt\n",
    "# =============================================================================\n",
    "\n",
    "chemicals_txt_path = \"./chemicals_rawdata/chemicals_txt\"\n",
    "chemicals_txts = os.listdir(chemicals_txt_path)\n",
    "\n",
    "all_txt_files = []\n",
    "for txt_file in chemicals_txts:\n",
    "    Comparator = KeyWordsComparison.KeyWordsComparator(txt_path=chemicals_txt_path,\n",
    "                                                   txt_file_name=txt_file)\n",
    "    stastic_data, colname = Comparator.Main_seg_and_stastic(df_mode = False)\n",
    "    all_txt_files.append(stastic_data)"
   ]
  },
  {
   "cell_type": "code",
   "execution_count": null,
   "metadata": {},
   "outputs": [],
   "source": []
  }
 ],
 "metadata": {
  "kernelspec": {
   "display_name": "Python 3",
   "language": "python",
   "name": "python3"
  },
  "language_info": {
   "codemirror_mode": {
    "name": "ipython",
    "version": 3
   },
   "file_extension": ".py",
   "mimetype": "text/x-python",
   "name": "python",
   "nbconvert_exporter": "python",
   "pygments_lexer": "ipython3",
   "version": "3.6.4"
  }
 },
 "nbformat": 4,
 "nbformat_minor": 2
}
